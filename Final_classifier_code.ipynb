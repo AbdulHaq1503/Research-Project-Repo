{
  "cells": [
    {
      "cell_type": "code",
      "execution_count": null,
      "metadata": {
        "id": "THnPPRAucXKc"
      },
      "outputs": [],
      "source": [
        "import torch\n",
        "import tensorflow\n",
        "import torch.nn as nn\n",
        "import torch.optim as optim\n",
        "import torch.nn.functional as F\n",
        "from torch.utils.data import DataLoader, TensorDataset, random_split\n",
        "from tensorflow.keras.preprocessing.text import Tokenizer\n",
        "from tensorflow.keras.preprocessing.sequence import pad_sequences\n",
        "import pandas as pd\n",
        "from sklearn.metrics import accuracy_score\n",
        "import numpy as np\n",
        "from tensorflow.keras.models import Sequential\n",
        "from tensorflow.keras.layers import Embedding, Conv1D  # Add other layers as needed\n"
      ]
    },
    {
      "cell_type": "code",
      "execution_count": null,
      "metadata": {
        "id": "YG62caURcdW3"
      },
      "outputs": [],
      "source": [
        "from tensorflow.keras.models import Sequential\n",
        "from tensorflow.keras.layers import Embedding, Conv1D, MaxPooling1D, SimpleRNN, LSTM, Bidirectional, Dropout, Dense\n",
        "\n",
        "vocab_size = 10000\n",
        "embed_size = 200\n",
        "num_classes = 5\n",
        "learning_rate = 0.001\n",
        "batch_size = 32\n",
        "epochs = 10\n",
        "input_length = 100  \n",
        "\n",
        "model = Sequential([\n",
        "    Embedding(input_dim=vocab_size, output_dim=embed_size, input_length=input_length),\n",
        "\n",
        "   \n",
        "    Conv1D(filters=64, kernel_size=5, activation='relu'),\n",
        "\n",
        "    \n",
        "    MaxPooling1D(pool_size=2),\n",
        "\n",
        "  \n",
        "    Bidirectional(SimpleRNN(32, return_sequences=True)),\n",
        "\n",
        "   \n",
        "    Bidirectional(LSTM(16)),\n",
        "\n",
        "    \n",
        "    Dropout(0.2),\n",
        "\n",
        "    \n",
        "    Dense(num_classes, activation='softmax')\n",
        "])\n",
        "\n",
        "\n",
        "model.compile(optimizer='adam', loss='categorical_crossentropy', metrics=['accuracy'])\n",
        "\n",
        "\n",
        "model.summary()\n"
      ]
    },
    {
      "cell_type": "code",
      "execution_count": null,
      "metadata": {
        "colab": {
          "base_uri": "https://localhost:8080/"
        },
        "id": "eUmLGbw2cdbo",
        "outputId": "a95555ae-f7f4-4cad-9857-a51fc3e05ab1"
      },
      "outputs": [
        {
          "name": "stdout",
          "output_type": "stream",
          "text": [
            "Number of classes: 5\n"
          ]
        }
      ],
      "source": [
        "import pandas as pd\n",
        "import numpy as np\n",
        "from sklearn.preprocessing import LabelEncoder\n",
        "from sklearn.model_selection import train_test_split\n",
        "from tensorflow.keras.preprocessing.text import Tokenizer\n",
        "from tensorflow.keras.preprocessing.sequence import pad_sequences\n",
        "from tensorflow.keras.utils import to_categorical\n",
        "\n",
        "df = pd.read_csv(\"hsc2.csv\")\n",
        "df['tweet'] = df['Text'].fillna('')\n",
        "\n",
        "texts = df['tweet'].tolist()\n",
        "labels = df['Label'].values\n",
        "\n",
        "label_encoder = LabelEncoder()\n",
        "encoded_labels = label_encoder.fit_transform(labels)  \n",
        "\n",
        "\n",
        "vocab_size = 10000 \n",
        "tokenizer = Tokenizer(num_words=vocab_size, oov_token=\"<OOV>\")\n",
        "tokenizer.fit_on_texts(texts)\n",
        "sequences = tokenizer.texts_to_sequences(texts)\n",
        "X = pad_sequences(sequences, maxlen=150, padding='post', truncating='post')\n",
        "\n",
        "\n",
        "y = to_categorical(encoded_labels) if len(label_encoder.classes_) > 2 else encoded_labels\n",
        "\n",
        "\n",
        "X_train, X_test, y_train, y_test = train_test_split(X, y, test_size=0.2, random_state=42)\n",
        "\n",
        "\n",
        "num_classes = len(label_encoder.classes_)\n",
        "print(\"Number of classes:\", num_classes)\n",
        "\n",
        "\n",
        "batch_size = 32\n",
        "\n",
        "\n"
      ]
    },
    {
      "cell_type": "code",
      "execution_count": null,
      "metadata": {
        "colab": {
          "base_uri": "https://localhost:8080/"
        },
        "id": "YjalUDRYe4G1",
        "outputId": "9b4197a2-685f-432c-a9dd-4265f888e6ba"
      },
      "outputs": [
        {
          "name": "stdout",
          "output_type": "stream",
          "text": [
            "Unique labels: ['Anti-Religion' 'Anti-State' 'Offensive' 'Racism' 'sexism']\n",
            "Num classes: 5\n"
          ]
        }
      ],
      "source": [
        "print(\"Unique labels:\", np.unique(labels))\n",
        "print(\"Num classes:\", num_classes)\n"
      ]
    },
    {
      "cell_type": "code",
      "execution_count": null,
      "metadata": {
        "id": "zjgJUusEcdd8"
      },
      "outputs": [],
      "source": [
        "print(\"Training data shape:\", X_train.shape)\n",
        "print(\"Training labels shape:\", y_train.shape)\n",
        "\n",
        "history = model.fit(X_train, y_train,\n",
        "                    validation_data=(X_test, y_test),\n",
        "                    epochs=5,\n",
        "                    batch_size=batch_size)\n"
      ]
    },
    {
      "cell_type": "code",
      "execution_count": null,
      "metadata": {
        "id": "b2V-GjpnE0rP"
      },
      "outputs": [],
      "source": [
        "from tensorflow.keras.preprocessing.sequence import pad_sequences\n",
        "import numpy as np\n",
        "\n",
        "# Assuming `tokenizer` was used during training to convert text to sequences\n",
        "def preprocess_tweet(tweet, tokenizer, max_length=150):\n",
        "    # Tokenize and pad the tweet\n",
        "    sequence = tokenizer.texts_to_sequences([tweet])\n",
        "    padded_sequence = pad_sequences(sequence, maxlen=max_length, padding='post')\n",
        "    return padded_sequence\n",
        "\n",
        "tweet = \"rt problem one care atrocity muslim dog europe also punished per\"\n",
        "\n",
        "input_data = preprocess_tweet(tweet, tokenizer)\n",
        "\n",
        "prediction = model.predict(input_data)\n",
        "\n",
        "predicted_class = np.argmax(prediction, axis=1)[0]\n",
        "print(f\"The predicted class for the tweet is: {predicted_class}\")\n"
      ]
    }
  ],
  "metadata": {
    "colab": {
      "provenance": []
    },
    "kernelspec": {
      "display_name": "Python 3",
      "name": "python3"
    },
    "language_info": {
      "name": "python"
    }
  },
  "nbformat": 4,
  "nbformat_minor": 0
}
